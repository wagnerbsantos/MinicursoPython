{
 "cells": [
  {
   "cell_type": "markdown",
   "metadata": {
    "colab_type": "text",
    "id": "vXPVjSM3gs4C"
   },
   "source": [
    "## **The Iris Dataset**"
   ]
  },
  {
   "cell_type": "code",
   "execution_count": 1,
   "metadata": {
    "colab": {
     "base_uri": "https://localhost:8080/",
     "height": 204
    },
    "colab_type": "code",
    "id": "F3i8P-KQgiBM",
    "outputId": "d13d0746-a5b6-457a-e385-d324737e1473"
   },
   "outputs": [
    {
     "data": {
      "text/html": [
       "<div>\n",
       "<style scoped>\n",
       "    .dataframe tbody tr th:only-of-type {\n",
       "        vertical-align: middle;\n",
       "    }\n",
       "\n",
       "    .dataframe tbody tr th {\n",
       "        vertical-align: top;\n",
       "    }\n",
       "\n",
       "    .dataframe thead th {\n",
       "        text-align: right;\n",
       "    }\n",
       "</style>\n",
       "<table border=\"1\" class=\"dataframe\">\n",
       "  <thead>\n",
       "    <tr style=\"text-align: right;\">\n",
       "      <th></th>\n",
       "      <th>sepal.length</th>\n",
       "      <th>sepal.width</th>\n",
       "      <th>petal.length</th>\n",
       "      <th>petal.width</th>\n",
       "      <th>variety</th>\n",
       "    </tr>\n",
       "  </thead>\n",
       "  <tbody>\n",
       "    <tr>\n",
       "      <td>0</td>\n",
       "      <td>5.1</td>\n",
       "      <td>3.5</td>\n",
       "      <td>1.4</td>\n",
       "      <td>0.2</td>\n",
       "      <td>Setosa</td>\n",
       "    </tr>\n",
       "    <tr>\n",
       "      <td>1</td>\n",
       "      <td>4.9</td>\n",
       "      <td>3.0</td>\n",
       "      <td>1.4</td>\n",
       "      <td>0.2</td>\n",
       "      <td>Setosa</td>\n",
       "    </tr>\n",
       "    <tr>\n",
       "      <td>2</td>\n",
       "      <td>4.7</td>\n",
       "      <td>3.2</td>\n",
       "      <td>1.3</td>\n",
       "      <td>0.2</td>\n",
       "      <td>Setosa</td>\n",
       "    </tr>\n",
       "    <tr>\n",
       "      <td>3</td>\n",
       "      <td>4.6</td>\n",
       "      <td>3.1</td>\n",
       "      <td>1.5</td>\n",
       "      <td>0.2</td>\n",
       "      <td>Setosa</td>\n",
       "    </tr>\n",
       "    <tr>\n",
       "      <td>4</td>\n",
       "      <td>5.0</td>\n",
       "      <td>3.6</td>\n",
       "      <td>1.4</td>\n",
       "      <td>0.2</td>\n",
       "      <td>Setosa</td>\n",
       "    </tr>\n",
       "  </tbody>\n",
       "</table>\n",
       "</div>"
      ],
      "text/plain": [
       "   sepal.length  sepal.width  petal.length  petal.width variety\n",
       "0           5.1          3.5           1.4          0.2  Setosa\n",
       "1           4.9          3.0           1.4          0.2  Setosa\n",
       "2           4.7          3.2           1.3          0.2  Setosa\n",
       "3           4.6          3.1           1.5          0.2  Setosa\n",
       "4           5.0          3.6           1.4          0.2  Setosa"
      ]
     },
     "execution_count": 1,
     "metadata": {},
     "output_type": "execute_result"
    }
   ],
   "source": [
    "import pandas as pd\n",
    "\n",
    "iris = pd.read_csv(\"iris.csv\")\n",
    "iris.head()"
   ]
  },
  {
   "cell_type": "code",
   "execution_count": 9,
   "metadata": {
    "colab": {
     "base_uri": "https://localhost:8080/",
     "height": 454
    },
    "colab_type": "code",
    "id": "i-71fP75ivHV",
    "outputId": "2f25aa31-a150-4b3d-91dc-a39a6e981fcc"
   },
   "outputs": [
    {
     "data": {
      "text/plain": [
       "array([[<matplotlib.axes._subplots.AxesSubplot object at 0x0000022F981F6668>,\n",
       "        <matplotlib.axes._subplots.AxesSubplot object at 0x0000022F9824E0B8>],\n",
       "       [<matplotlib.axes._subplots.AxesSubplot object at 0x0000022F98282668>,\n",
       "        <matplotlib.axes._subplots.AxesSubplot object at 0x0000022F982B0BA8>]],\n",
       "      dtype=object)"
      ]
     },
     "execution_count": 9,
     "metadata": {},
     "output_type": "execute_result"
    },
    {
     "data": {
      "image/png": "[encoded data removed]",
      "text/plain": [
       "<Figure size 432x288 with 4 Axes>"
      ]
     },
     "metadata": {
      "needs_background": "light"
     },
     "output_type": "display_data"
    }
   ],
   "source": [
    "iris.hist(column='petal.length', by='variety')"
   ]
  },
  {
   "cell_type": "code",
   "execution_count": 8,
   "metadata": {
    "colab": {
     "base_uri": "https://localhost:8080/",
     "height": 297
    },
    "colab_type": "code",
    "id": "_vj48aXmknPv",
    "outputId": "e04b6bab-1573-4095-e2b8-b42adb83ced1"
   },
   "outputs": [
    {
     "data": {
      "text/html": [
       "<div>\n",
       "<style scoped>\n",
       "    .dataframe tbody tr th:only-of-type {\n",
       "        vertical-align: middle;\n",
       "    }\n",
       "\n",
       "    .dataframe tbody tr th {\n",
       "        vertical-align: top;\n",
       "    }\n",
       "\n",
       "    .dataframe thead th {\n",
       "        text-align: right;\n",
       "    }\n",
       "</style>\n",
       "<table border=\"1\" class=\"dataframe\">\n",
       "  <thead>\n",
       "    <tr style=\"text-align: right;\">\n",
       "      <th></th>\n",
       "      <th>sepal.length</th>\n",
       "      <th>sepal.width</th>\n",
       "      <th>petal.length</th>\n",
       "      <th>petal.width</th>\n",
       "    </tr>\n",
       "  </thead>\n",
       "  <tbody>\n",
       "    <tr>\n",
       "      <td>count</td>\n",
       "      <td>150.000000</td>\n",
       "      <td>150.000000</td>\n",
       "      <td>150.000000</td>\n",
       "      <td>150.000000</td>\n",
       "    </tr>\n",
       "    <tr>\n",
       "      <td>mean</td>\n",
       "      <td>5.843333</td>\n",
       "      <td>3.057333</td>\n",
       "      <td>3.758000</td>\n",
       "      <td>1.199333</td>\n",
       "    </tr>\n",
       "    <tr>\n",
       "      <td>std</td>\n",
       "      <td>0.828066</td>\n",
       "      <td>0.435866</td>\n",
       "      <td>1.765298</td>\n",
       "      <td>0.762238</td>\n",
       "    </tr>\n",
       "    <tr>\n",
       "      <td>min</td>\n",
       "      <td>4.300000</td>\n",
       "      <td>2.000000</td>\n",
       "      <td>1.000000</td>\n",
       "      <td>0.100000</td>\n",
       "    </tr>\n",
       "    <tr>\n",
       "      <td>25%</td>\n",
       "      <td>5.100000</td>\n",
       "      <td>2.800000</td>\n",
       "      <td>1.600000</td>\n",
       "      <td>0.300000</td>\n",
       "    </tr>\n",
       "    <tr>\n",
       "      <td>50%</td>\n",
       "      <td>5.800000</td>\n",
       "      <td>3.000000</td>\n",
       "      <td>4.350000</td>\n",
       "      <td>1.300000</td>\n",
       "    </tr>\n",
       "    <tr>\n",
       "      <td>75%</td>\n",
       "      <td>6.400000</td>\n",
       "      <td>3.300000</td>\n",
       "      <td>5.100000</td>\n",
       "      <td>1.800000</td>\n",
       "    </tr>\n",
       "    <tr>\n",
       "      <td>max</td>\n",
       "      <td>7.900000</td>\n",
       "      <td>4.400000</td>\n",
       "      <td>6.900000</td>\n",
       "      <td>2.500000</td>\n",
       "    </tr>\n",
       "  </tbody>\n",
       "</table>\n",
       "</div>"
      ],
      "text/plain": [
       "       sepal.length  sepal.width  petal.length  petal.width\n",
       "count    150.000000   150.000000    150.000000   150.000000\n",
       "mean       5.843333     3.057333      3.758000     1.199333\n",
       "std        0.828066     0.435866      1.765298     0.762238\n",
       "min        4.300000     2.000000      1.000000     0.100000\n",
       "25%        5.100000     2.800000      1.600000     0.300000\n",
       "50%        5.800000     3.000000      4.350000     1.300000\n",
       "75%        6.400000     3.300000      5.100000     1.800000\n",
       "max        7.900000     4.400000      6.900000     2.500000"
      ]
     },
     "execution_count": 8,
     "metadata": {},
     "output_type": "execute_result"
    }
   ],
   "source": [
    "iris.describe()"
   ]
  },
  {
   "cell_type": "code",
   "execution_count": 17,
   "metadata": {
    "colab": {
     "base_uri": "https://localhost:8080/",
     "height": 251
    },
    "colab_type": "code",
    "id": "VzWp5aFvmMlg",
    "outputId": "652bac88-c26e-4074-bd4f-e39ab69dfdec"
   },
   "outputs": [
    {
     "name": "stdout",
     "output_type": "stream",
     "text": [
      "Features: ['sepal.length', 'sepal.width', 'petal.length', 'petal.width']\n",
      "[[5.1 3.5 1.4 0.2]\n",
      " [4.9 3.  1.4 0.2]\n",
      " [4.7 3.2 1.3 0.2]\n",
      " [4.6 3.1 1.5 0.2]\n",
      " [5.  3.6 1.4 0.2]\n",
      " [5.4 3.9 1.7 0.4]\n",
      " [4.6 3.4 1.4 0.3]\n",
      " [5.  3.4 1.5 0.2]\n",
      " [4.4 2.9 1.4 0.2]\n",
      " [4.9 3.1 1.5 0.1]]\n",
      "['Setosa' 'Setosa' 'Setosa' 'Setosa' 'Setosa' 'Setosa' 'Setosa' 'Setosa'\n",
      " 'Setosa' 'Setosa']\n"
     ]
    }
   ],
   "source": [
    "features = list(iris)  # List dataframe columns, similar to 'iris.columns'\n",
    "class_col = 'variety'\n",
    "features.remove(class_col)\n",
    "\n",
    "print(\"Features: \" + str(features))\n",
    "\n",
    "x = iris[features].values\n",
    "y = iris[class_col].values\n",
    "\n",
    "print(x[:10])\n",
    "print(y[:10])\n"
   ]
  },
  {
   "cell_type": "markdown",
   "metadata": {
    "colab_type": "text",
    "id": "ZJgbS6sBvNi9"
   },
   "source": [
    "## **2-Dimensional Plot of the Iris Dataset using PCA**"
   ]
  },
  {
   "cell_type": "code",
   "execution_count": 12,
   "metadata": {
    "colab": {
     "base_uri": "https://localhost:8080/",
     "height": 380
    },
    "colab_type": "code",
    "id": "cNmNl1P-r8jl",
    "outputId": "dd4678e0-fe46-4f6d-b415-70e7ce31942c"
   },
   "outputs": [
    {
     "data": {
      "text/plain": [
       "Text(0.5, 1.0, 'PCA of IRIS Dataset')"
      ]
     },
     "execution_count": 12,
     "metadata": {},
     "output_type": "execute_result"
    },
    {
     "data": {
      "image/png": "[encoded data removed]",
      "text/plain": [
       "<Figure size 432x288 with 1 Axes>"
      ]
     },
     "metadata": {
      "needs_background": "light"
     },
     "output_type": "display_data"
    }
   ],
   "source": [
    "import matplotlib.pyplot as plt\n",
    "import numpy as np\n",
    "from sklearn.decomposition import PCA # isso aqui vai ser o exercicio\n",
    "\n",
    "pca = PCA(n_components=2)\n",
    "x_2d = pca.fit(x).transform(x)\n",
    "\n",
    "plt.figure()\n",
    "\n",
    "for idx, label in enumerate(set(y)):\n",
    "    plt.scatter(x_2d[np.where(y == label), 0],\n",
    "                x_2d[np.where(y == label), 1],\n",
    "                label=label)\n",
    "\n",
    "plt.legend(loc='best', scatterpoints=1)\n",
    "plt.title('PCA of IRIS Dataset', fontdict={'fontsize':14})"
   ]
  },
  {
   "cell_type": "markdown",
   "metadata": {
    "colab_type": "text",
    "id": "RC-IVGkRvrrI"
   },
   "source": [
    "## **Hierarchical Clustering**"
   ]
  },
  {
   "cell_type": "code",
   "execution_count": 13,
   "metadata": {
    "colab": {
     "base_uri": "https://localhost:8080/",
     "height": 35
    },
    "colab_type": "code",
    "id": "kVODaKswlItP",
    "outputId": "48ea01c6-a1ee-40eb-b5b0-e6d53d24549f"
   },
   "outputs": [
    {
     "name": "stdout",
     "output_type": "stream",
     "text": [
      "V-Measure clusters quality: 0.805693691215336\n"
     ]
    }
   ],
   "source": [
    "from sklearn.cluster import AgglomerativeClustering\n",
    "from sklearn.metrics import v_measure_score\n",
    "\n",
    "hier_clus = AgglomerativeClustering(n_clusters=3,\n",
    "                                    linkage='average',\n",
    "                                    compute_full_tree=True)\n",
    "hier_clus.fit(x)\n",
    "clusters = hier_clus.labels_\n",
    "\n",
    "v_score = v_measure_score(y, clusters)\n",
    "print(\"V-Measure clusters quality: \" + str(v_score))\n",
    "\n",
    "# Many other metrics: http://scikit-learn.org/stable/modules/classes.html#module-sklearn.metrics"
   ]
  },
  {
   "cell_type": "markdown",
   "metadata": {
    "colab_type": "text",
    "id": "Y7IJd-rZvvXr"
   },
   "source": [
    "## **K-Means Clustering**"
   ]
  },
  {
   "cell_type": "code",
   "execution_count": 14,
   "metadata": {
    "colab": {
     "base_uri": "https://localhost:8080/",
     "height": 380
    },
    "colab_type": "code",
    "id": "BE1WyH9AnZkN",
    "outputId": "1d247b3e-498e-47d5-dc91-1b871710761b"
   },
   "outputs": [
    {
     "data": {
      "text/plain": [
       "Text(0.5, 1.0, 'KMeans on IRIS Dataset')"
      ]
     },
     "execution_count": 14,
     "metadata": {},
     "output_type": "execute_result"
    },
    {
     "data": {
      "image/png": "[encoded data removed]",
      "text/plain": [
       "<Figure size 432x288 with 1 Axes>"
      ]
     },
     "metadata": {
      "needs_background": "light"
     },
     "output_type": "display_data"
    }
   ],
   "source": [
    "from sklearn.cluster import KMeans\n",
    "from sklearn.metrics import v_measure_score\n",
    "\n",
    "kmeans = KMeans(n_clusters=3)\n",
    "kmeans.fit(x)\n",
    "clusters = kmeans.labels_\n",
    "\n",
    "\n",
    "##################################\n",
    "# Plot clusters\n",
    "##################################\n",
    "import matplotlib.pyplot as plt\n",
    "import numpy as np\n",
    "from sklearn.decomposition import PCA\n",
    "\n",
    "pca = PCA(n_components=2)\n",
    "x_2d = pca.fit(x).transform(x)\n",
    "\n",
    "plt.figure()\n",
    "\n",
    "for idx, label in enumerate(set(clusters)):\n",
    "    plt.scatter(x_2d[np.where(clusters == label), 0],\n",
    "                x_2d[np.where(clusters == label), 1],\n",
    "                label=label)\n",
    "\n",
    "plt.legend(loc='best', scatterpoints=1)\n",
    "plt.title('KMeans on IRIS Dataset')"
   ]
  },
  {
   "cell_type": "markdown",
   "metadata": {
    "colab_type": "text",
    "id": "zKiLcszjwewE"
   },
   "source": [
    "## **Train/Test Split**"
   ]
  },
  {
   "cell_type": "code",
   "execution_count": 0,
   "metadata": {
    "colab": {
     "base_uri": "https://localhost:8080/",
     "height": 109
    },
    "colab_type": "code",
    "id": "UYnxgzNawdPD",
    "outputId": "361361e5-1448-4862-ed28-f0317b2886c5"
   },
   "outputs": [
    {
     "name": "stdout",
     "output_type": "stream",
     "text": [
      "Train samples: 100\n",
      "Test samples: 50\n"
     ]
    },
    {
     "name": "stderr",
     "output_type": "stream",
     "text": [
      "/usr/local/lib/python2.7/dist-packages/sklearn/model_selection/_split.py:2026: FutureWarning: From version 0.21, test_size will always complement train_size unless both are specified.\n",
      "  FutureWarning)\n"
     ]
    }
   ],
   "source": [
    "from sklearn.model_selection import train_test_split\n",
    "\n",
    "x_train, x_test, y_train, y_test = train_test_split(x, y,\n",
    "                                                    train_size=0.67,\n",
    "                                                    stratify=y)\n",
    "print(\"Train samples: \" + str(len(x_train)))\n",
    "print(\"Test samples: \" + str(len(x_test)))"
   ]
  },
  {
   "cell_type": "markdown",
   "metadata": {
    "colab_type": "text",
    "id": "bgIBOLq1BNsw"
   },
   "source": [
    "## **Decision Tree Classfier**"
   ]
  },
  {
   "cell_type": "code",
   "execution_count": 0,
   "metadata": {
    "colab": {
     "base_uri": "https://localhost:8080/",
     "height": 547
    },
    "colab_type": "code",
    "id": "CryxSjH546uK",
    "outputId": "c25be99b-d573-43de-a129-489d0dc14d6a"
   },
   "outputs": [
    {
     "name": "stdout",
     "output_type": "stream",
     "text": [
      "Train accuracy: 0.97\n",
      "Test accuracy: 0.98\n",
      "Labels: ['setosa', 'versicolor', 'virginica']\n",
      "\n",
      "Confusion matrix (True x Pred):\n",
      "[[17  0  0]\n",
      " [ 0 16  0]\n",
      " [ 0  1 16]]\n"
     ]
    },
    {
     "data": {
      "image/png": "[encoded data removed]",
      "text/plain": [
       "<matplotlib.figure.Figure at 0x7fce6d329050>"
      ]
     },
     "metadata": {
      "tags": []
     },
     "output_type": "display_data"
    }
   ],
   "source": [
    "from sklearn.tree import DecisionTreeClassifier\n",
    "from sklearn.metrics import confusion_matrix\n",
    "\n",
    "classifier = DecisionTreeClassifier(criterion='entropy',\n",
    "                                    max_depth=5)\n",
    "classifier.fit(x_train, y_train)\n",
    "train_acc = classifier.score(x_train, y_train)\n",
    "test_acc = classifier.score(x_test, y_test)\n",
    "\n",
    "print(\"Train accuracy: \" + str(train_acc))\n",
    "print(\"Test accuracy: \" + str(test_acc))\n",
    "\n",
    "labels = list(set(y_test))\n",
    "test_pred = classifier.predict(x_test)\n",
    "conf_matrix = confusion_matrix(y_test, test_pred, labels=labels)\n",
    "\n",
    "print(\"Labels: \" + str(labels))\n",
    "print(\"\\nConfusion matrix (True x Pred):\")\n",
    "print(conf_matrix)\n",
    "\n",
    "\n",
    "#################################\n",
    "# Plot confusion matrix\n",
    "#################################\n",
    "import matplotlib.pyplot as plt\n",
    "import itertools\n",
    "\n",
    "fig = plt.figure()\n",
    "ax = fig.gca()\n",
    "ax.grid(False)\n",
    "\n",
    "plt.imshow(conf_matrix, interpolation='nearest', cmap=plt.get_cmap('Blues'))\n",
    "plt.title(\"Confusion matrix\")\n",
    "\n",
    "tick_marks = np.arange(len(labels))\n",
    "plt.xticks(tick_marks, labels, rotation=45)\n",
    "plt.yticks(tick_marks, labels)\n",
    "\n",
    "for i, j in itertools.product(range(conf_matrix.shape[0]),\n",
    "                              range(conf_matrix.shape[1])):\n",
    "    plt.text(j, i, \"{:,}\".format(conf_matrix[i, j]),\n",
    "             horizontalalignment=\"center\",\n",
    "             color=\"white\" if conf_matrix[i, j] > conf_matrix.max() / 2 else \"black\")\n",
    "\n",
    "plt.ylabel('True label')\n",
    "plt.xlabel('Predicted label')\n",
    "plt.show()"
   ]
  },
  {
   "cell_type": "code",
   "execution_count": 0,
   "metadata": {
    "colab": {
     "base_uri": "https://localhost:8080/",
     "height": 917
    },
    "colab_type": "code",
    "id": "0D7UUx4IUcgj",
    "outputId": "f2c583f8-6c48-49df-9db8-32497990183f"
   },
   "outputs": [
    {
     "data": {
      "image/svg+xml": [
       "<?xml version=\"1.0\" encoding=\"UTF-8\" standalone=\"no\"?>\n",
       "<!DOCTYPE svg PUBLIC \"-//W3C//DTD SVG 1.1//EN\"\n",
       " \"http://www.w3.org/Graphics/SVG/1.1/DTD/svg11.dtd\">\n",
       "<!-- Generated by graphviz version 2.38.0 (20140413.2041)\n",
       " -->\n",
       "<!-- Title: Tree Pages: 1 -->\n",
       "<svg width=\"721pt\" height=\"671pt\"\n",
       " viewBox=\"0.00 0.00 721.00 671.00\" xmlns=\"http://www.w3.org/2000/svg\" xmlns:xlink=\"http://www.w3.org/1999/xlink\">\n",
       "<g id=\"graph0\" class=\"graph\" transform=\"scale(1 1) rotate(0) translate(4 667)\">\n",
       "<title>Tree</title>\n",
       "<polygon fill=\"white\" stroke=\"none\" points=\"-4,4 -4,-667 717,-667 717,4 -4,4\"/>\n",
       "<!-- 0 -->\n",
       "<g id=\"node1\" class=\"node\"><title>0</title>\n",
       "<path fill=\"#39e581\" fill-opacity=\"0.015686\" stroke=\"black\" d=\"M382,-663C382,-663 247,-663 247,-663 241,-663 235,-657 235,-651 235,-651 235,-592 235,-592 235,-586 241,-580 247,-580 247,-580 382,-580 382,-580 388,-580 394,-586 394,-592 394,-592 394,-651 394,-651 394,-657 388,-663 382,-663\"/>\n",
       "<text text-anchor=\"start\" x=\"248\" y=\"-647.8\" font-family=\"Helvetica,sans-Serif\" font-size=\"14.00\">petal_length ≤ 2.7</text>\n",
       "<text text-anchor=\"start\" x=\"255.5\" y=\"-632.8\" font-family=\"Helvetica,sans-Serif\" font-size=\"14.00\">entropy = 1.585</text>\n",
       "<text text-anchor=\"start\" x=\"260\" y=\"-617.8\" font-family=\"Helvetica,sans-Serif\" font-size=\"14.00\">samples = 100</text>\n",
       "<text text-anchor=\"start\" x=\"243\" y=\"-602.8\" font-family=\"Helvetica,sans-Serif\" font-size=\"14.00\">value = [33, 34, 33]</text>\n",
       "<text text-anchor=\"start\" x=\"251\" y=\"-587.8\" font-family=\"Helvetica,sans-Serif\" font-size=\"14.00\">class = versicolor</text>\n",
       "</g>\n",
       "<!-- 1 -->\n",
       "<g id=\"node2\" class=\"node\"><title>1</title>\n",
       "<path fill=\"#e58139\" stroke=\"black\" d=\"M291,-536.5C291,-536.5 174,-536.5 174,-536.5 168,-536.5 162,-530.5 162,-524.5 162,-524.5 162,-480.5 162,-480.5 162,-474.5 168,-468.5 174,-468.5 174,-468.5 291,-468.5 291,-468.5 297,-468.5 303,-474.5 303,-480.5 303,-480.5 303,-524.5 303,-524.5 303,-530.5 297,-536.5 291,-536.5\"/>\n",
       "<text text-anchor=\"start\" x=\"182.5\" y=\"-521.3\" font-family=\"Helvetica,sans-Serif\" font-size=\"14.00\">entropy = 0.0</text>\n",
       "<text text-anchor=\"start\" x=\"182.5\" y=\"-506.3\" font-family=\"Helvetica,sans-Serif\" font-size=\"14.00\">samples = 33</text>\n",
       "<text text-anchor=\"start\" x=\"170\" y=\"-491.3\" font-family=\"Helvetica,sans-Serif\" font-size=\"14.00\">value = [33, 0, 0]</text>\n",
       "<text text-anchor=\"start\" x=\"180.5\" y=\"-476.3\" font-family=\"Helvetica,sans-Serif\" font-size=\"14.00\">class = setosa</text>\n",
       "</g>\n",
       "<!-- 0&#45;&gt;1 -->\n",
       "<g id=\"edge1\" class=\"edge\"><title>0&#45;&gt;1</title>\n",
       "<path fill=\"none\" stroke=\"black\" d=\"M286.051,-579.907C278.162,-568.652 269.588,-556.418 261.66,-545.106\"/>\n",
       "<polygon fill=\"black\" stroke=\"black\" points=\"264.351,-542.847 255.745,-536.667 258.618,-546.865 264.351,-542.847\"/>\n",
       "<text text-anchor=\"middle\" x=\"251.415\" y=\"-557.589\" font-family=\"Helvetica,sans-Serif\" font-size=\"14.00\">True</text>\n",
       "</g>\n",
       "<!-- 2 -->\n",
       "<g id=\"node3\" class=\"node\"><title>2</title>\n",
       "<path fill=\"#39e581\" fill-opacity=\"0.031373\" stroke=\"black\" d=\"M461.5,-544C461.5,-544 333.5,-544 333.5,-544 327.5,-544 321.5,-538 321.5,-532 321.5,-532 321.5,-473 321.5,-473 321.5,-467 327.5,-461 333.5,-461 333.5,-461 461.5,-461 461.5,-461 467.5,-461 473.5,-467 473.5,-473 473.5,-473 473.5,-532 473.5,-532 473.5,-538 467.5,-544 461.5,-544\"/>\n",
       "<text text-anchor=\"start\" x=\"329.5\" y=\"-528.8\" font-family=\"Helvetica,sans-Serif\" font-size=\"14.00\">petal_width ≤ 1.75</text>\n",
       "<text text-anchor=\"start\" x=\"347.5\" y=\"-513.8\" font-family=\"Helvetica,sans-Serif\" font-size=\"14.00\">entropy = 1.0</text>\n",
       "<text text-anchor=\"start\" x=\"347.5\" y=\"-498.8\" font-family=\"Helvetica,sans-Serif\" font-size=\"14.00\">samples = 67</text>\n",
       "<text text-anchor=\"start\" x=\"330.5\" y=\"-483.8\" font-family=\"Helvetica,sans-Serif\" font-size=\"14.00\">value = [0, 34, 33]</text>\n",
       "<text text-anchor=\"start\" x=\"334\" y=\"-468.8\" font-family=\"Helvetica,sans-Serif\" font-size=\"14.00\">class = versicolor</text>\n",
       "</g>\n",
       "<!-- 0&#45;&gt;2 -->\n",
       "<g id=\"edge2\" class=\"edge\"><title>0&#45;&gt;2</title>\n",
       "<path fill=\"none\" stroke=\"black\" d=\"M343.296,-579.907C349.606,-571.014 356.348,-561.509 362.859,-552.331\"/>\n",
       "<polygon fill=\"black\" stroke=\"black\" points=\"365.823,-554.202 368.754,-544.021 360.114,-550.152 365.823,-554.202\"/>\n",
       "<text text-anchor=\"middle\" x=\"372.944\" y=\"-564.967\" font-family=\"Helvetica,sans-Serif\" font-size=\"14.00\">False</text>\n",
       "</g>\n",
       "<!-- 3 -->\n",
       "<g id=\"node4\" class=\"node\"><title>3</title>\n",
       "<path fill=\"#39e581\" fill-opacity=\"0.878431\" stroke=\"black\" d=\"M374.5,-425C374.5,-425 246.5,-425 246.5,-425 240.5,-425 234.5,-419 234.5,-413 234.5,-413 234.5,-354 234.5,-354 234.5,-348 240.5,-342 246.5,-342 246.5,-342 374.5,-342 374.5,-342 380.5,-342 386.5,-348 386.5,-354 386.5,-354 386.5,-413 386.5,-413 386.5,-419 380.5,-425 374.5,-425\"/>\n",
       "<text text-anchor=\"start\" x=\"242.5\" y=\"-409.8\" font-family=\"Helvetica,sans-Serif\" font-size=\"14.00\">petal_width ≤ 1.45</text>\n",
       "<text text-anchor=\"start\" x=\"251.5\" y=\"-394.8\" font-family=\"Helvetica,sans-Serif\" font-size=\"14.00\">entropy = 0.494</text>\n",
       "<text text-anchor=\"start\" x=\"260.5\" y=\"-379.8\" font-family=\"Helvetica,sans-Serif\" font-size=\"14.00\">samples = 37</text>\n",
       "<text text-anchor=\"start\" x=\"248\" y=\"-364.8\" font-family=\"Helvetica,sans-Serif\" font-size=\"14.00\">value = [0, 33, 4]</text>\n",
       "<text text-anchor=\"start\" x=\"247\" y=\"-349.8\" font-family=\"Helvetica,sans-Serif\" font-size=\"14.00\">class = versicolor</text>\n",
       "</g>\n",
       "<!-- 2&#45;&gt;3 -->\n",
       "<g id=\"edge3\" class=\"edge\"><title>2&#45;&gt;3</title>\n",
       "<path fill=\"none\" stroke=\"black\" d=\"M367.316,-460.907C360.635,-451.923 353.491,-442.315 346.601,-433.05\"/>\n",
       "<polygon fill=\"black\" stroke=\"black\" points=\"349.407,-430.957 340.631,-425.021 343.789,-435.134 349.407,-430.957\"/>\n",
       "</g>\n",
       "<!-- 10 -->\n",
       "<g id=\"node11\" class=\"node\"><title>10</title>\n",
       "<path fill=\"#8139e5\" fill-opacity=\"0.964706\" stroke=\"black\" d=\"M550.5,-425C550.5,-425 416.5,-425 416.5,-425 410.5,-425 404.5,-419 404.5,-413 404.5,-413 404.5,-354 404.5,-354 404.5,-348 410.5,-342 416.5,-342 416.5,-342 550.5,-342 550.5,-342 556.5,-342 562.5,-348 562.5,-354 562.5,-354 562.5,-413 562.5,-413 562.5,-419 556.5,-425 550.5,-425\"/>\n",
       "<text text-anchor=\"start\" x=\"412.5\" y=\"-409.8\" font-family=\"Helvetica,sans-Serif\" font-size=\"14.00\">petal_length ≤ 4.85</text>\n",
       "<text text-anchor=\"start\" x=\"424.5\" y=\"-394.8\" font-family=\"Helvetica,sans-Serif\" font-size=\"14.00\">entropy = 0.211</text>\n",
       "<text text-anchor=\"start\" x=\"433.5\" y=\"-379.8\" font-family=\"Helvetica,sans-Serif\" font-size=\"14.00\">samples = 30</text>\n",
       "<text text-anchor=\"start\" x=\"421\" y=\"-364.8\" font-family=\"Helvetica,sans-Serif\" font-size=\"14.00\">value = [0, 1, 29]</text>\n",
       "<text text-anchor=\"start\" x=\"425\" y=\"-349.8\" font-family=\"Helvetica,sans-Serif\" font-size=\"14.00\">class = virginica</text>\n",
       "</g>\n",
       "<!-- 2&#45;&gt;10 -->\n",
       "<g id=\"edge10\" class=\"edge\"><title>2&#45;&gt;10</title>\n",
       "<path fill=\"none\" stroke=\"black\" d=\"M427.337,-460.907C433.874,-452.014 440.861,-442.509 447.607,-433.331\"/>\n",
       "<polygon fill=\"black\" stroke=\"black\" points=\"450.613,-435.151 453.715,-425.021 444.973,-431.005 450.613,-435.151\"/>\n",
       "</g>\n",
       "<!-- 4 -->\n",
       "<g id=\"node5\" class=\"node\"><title>4</title>\n",
       "<path fill=\"#39e581\" stroke=\"black\" d=\"M213,-298.5C213,-298.5 94,-298.5 94,-298.5 88,-298.5 82,-292.5 82,-286.5 82,-286.5 82,-242.5 82,-242.5 82,-236.5 88,-230.5 94,-230.5 94,-230.5 213,-230.5 213,-230.5 219,-230.5 225,-236.5 225,-242.5 225,-242.5 225,-286.5 225,-286.5 225,-292.5 219,-298.5 213,-298.5\"/>\n",
       "<text text-anchor=\"start\" x=\"103.5\" y=\"-283.3\" font-family=\"Helvetica,sans-Serif\" font-size=\"14.00\">entropy = 0.0</text>\n",
       "<text text-anchor=\"start\" x=\"103.5\" y=\"-268.3\" font-family=\"Helvetica,sans-Serif\" font-size=\"14.00\">samples = 25</text>\n",
       "<text text-anchor=\"start\" x=\"91\" y=\"-253.3\" font-family=\"Helvetica,sans-Serif\" font-size=\"14.00\">value = [0, 25, 0]</text>\n",
       "<text text-anchor=\"start\" x=\"90\" y=\"-238.3\" font-family=\"Helvetica,sans-Serif\" font-size=\"14.00\">class = versicolor</text>\n",
       "</g>\n",
       "<!-- 3&#45;&gt;4 -->\n",
       "<g id=\"edge4\" class=\"edge\"><title>3&#45;&gt;4</title>\n",
       "<path fill=\"none\" stroke=\"black\" d=\"M256.03,-341.907C239.89,-329.88 222.251,-316.735 206.224,-304.791\"/>\n",
       "<polygon fill=\"black\" stroke=\"black\" points=\"208.116,-301.836 198.006,-298.667 203.933,-307.449 208.116,-301.836\"/>\n",
       "</g>\n",
       "<!-- 5 -->\n",
       "<g id=\"node6\" class=\"node\"><title>5</title>\n",
       "<path fill=\"#39e581\" fill-opacity=\"0.498039\" stroke=\"black\" d=\"M376,-306C376,-306 255,-306 255,-306 249,-306 243,-300 243,-294 243,-294 243,-235 243,-235 243,-229 249,-223 255,-223 255,-223 376,-223 376,-223 382,-223 388,-229 388,-235 388,-235 388,-294 388,-294 388,-300 382,-306 376,-306\"/>\n",
       "<text text-anchor=\"start\" x=\"251\" y=\"-290.8\" font-family=\"Helvetica,sans-Serif\" font-size=\"14.00\">sepal_width ≤ 3.1</text>\n",
       "<text text-anchor=\"start\" x=\"256.5\" y=\"-275.8\" font-family=\"Helvetica,sans-Serif\" font-size=\"14.00\">entropy = 0.918</text>\n",
       "<text text-anchor=\"start\" x=\"265.5\" y=\"-260.8\" font-family=\"Helvetica,sans-Serif\" font-size=\"14.00\">samples = 12</text>\n",
       "<text text-anchor=\"start\" x=\"257.5\" y=\"-245.8\" font-family=\"Helvetica,sans-Serif\" font-size=\"14.00\">value = [0, 8, 4]</text>\n",
       "<text text-anchor=\"start\" x=\"252\" y=\"-230.8\" font-family=\"Helvetica,sans-Serif\" font-size=\"14.00\">class = versicolor</text>\n",
       "</g>\n",
       "<!-- 3&#45;&gt;5 -->\n",
       "<g id=\"edge5\" class=\"edge\"><title>3&#45;&gt;5</title>\n",
       "<path fill=\"none\" stroke=\"black\" d=\"M312.235,-341.907C312.592,-333.558 312.971,-324.671 313.341,-316.02\"/>\n",
       "<polygon fill=\"black\" stroke=\"black\" points=\"316.838,-316.161 313.768,-306.021 309.844,-315.862 316.838,-316.161\"/>\n",
       "</g>\n",
       "<!-- 6 -->\n",
       "<g id=\"node7\" class=\"node\"><title>6</title>\n",
       "<path fill=\"#39e581\" fill-opacity=\"0.200000\" stroke=\"black\" d=\"M216.5,-187C216.5,-187 82.5,-187 82.5,-187 76.5,-187 70.5,-181 70.5,-175 70.5,-175 70.5,-116 70.5,-116 70.5,-110 76.5,-104 82.5,-104 82.5,-104 216.5,-104 216.5,-104 222.5,-104 228.5,-110 228.5,-116 228.5,-116 228.5,-175 228.5,-175 228.5,-181 222.5,-187 216.5,-187\"/>\n",
       "<text text-anchor=\"start\" x=\"78.5\" y=\"-171.8\" font-family=\"Helvetica,sans-Serif\" font-size=\"14.00\">petal_length ≤ 5.45</text>\n",
       "<text text-anchor=\"start\" x=\"90.5\" y=\"-156.8\" font-family=\"Helvetica,sans-Serif\" font-size=\"14.00\">entropy = 0.991</text>\n",
       "<text text-anchor=\"start\" x=\"104\" y=\"-141.8\" font-family=\"Helvetica,sans-Serif\" font-size=\"14.00\">samples = 9</text>\n",
       "<text text-anchor=\"start\" x=\"91.5\" y=\"-126.8\" font-family=\"Helvetica,sans-Serif\" font-size=\"14.00\">value = [0, 5, 4]</text>\n",
       "<text text-anchor=\"start\" x=\"86\" y=\"-111.8\" font-family=\"Helvetica,sans-Serif\" font-size=\"14.00\">class = versicolor</text>\n",
       "</g>\n",
       "<!-- 5&#45;&gt;6 -->\n",
       "<g id=\"edge6\" class=\"edge\"><title>5&#45;&gt;6</title>\n",
       "<path fill=\"none\" stroke=\"black\" d=\"M257.907,-222.907C244.13,-213.197 229.319,-202.758 215.207,-192.811\"/>\n",
       "<polygon fill=\"black\" stroke=\"black\" points=\"217.181,-189.921 206.991,-187.021 213.148,-195.643 217.181,-189.921\"/>\n",
       "</g>\n",
       "<!-- 9 -->\n",
       "<g id=\"node10\" class=\"node\"><title>9</title>\n",
       "<path fill=\"#39e581\" stroke=\"black\" d=\"M378,-179.5C378,-179.5 259,-179.5 259,-179.5 253,-179.5 247,-173.5 247,-167.5 247,-167.5 247,-123.5 247,-123.5 247,-117.5 253,-111.5 259,-111.5 259,-111.5 378,-111.5 378,-111.5 384,-111.5 390,-117.5 390,-123.5 390,-123.5 390,-167.5 390,-167.5 390,-173.5 384,-179.5 378,-179.5\"/>\n",
       "<text text-anchor=\"start\" x=\"268.5\" y=\"-164.3\" font-family=\"Helvetica,sans-Serif\" font-size=\"14.00\">entropy = 0.0</text>\n",
       "<text text-anchor=\"start\" x=\"273\" y=\"-149.3\" font-family=\"Helvetica,sans-Serif\" font-size=\"14.00\">samples = 3</text>\n",
       "<text text-anchor=\"start\" x=\"260.5\" y=\"-134.3\" font-family=\"Helvetica,sans-Serif\" font-size=\"14.00\">value = [0, 3, 0]</text>\n",
       "<text text-anchor=\"start\" x=\"255\" y=\"-119.3\" font-family=\"Helvetica,sans-Serif\" font-size=\"14.00\">class = versicolor</text>\n",
       "</g>\n",
       "<!-- 5&#45;&gt;9 -->\n",
       "<g id=\"edge9\" class=\"edge\"><title>5&#45;&gt;9</title>\n",
       "<path fill=\"none\" stroke=\"black\" d=\"M316.541,-222.907C316.815,-212.204 317.112,-200.615 317.39,-189.776\"/>\n",
       "<polygon fill=\"black\" stroke=\"black\" points=\"320.892,-189.753 317.65,-179.667 313.894,-189.574 320.892,-189.753\"/>\n",
       "</g>\n",
       "<!-- 7 -->\n",
       "<g id=\"node8\" class=\"node\"><title>7</title>\n",
       "<path fill=\"#39e581\" fill-opacity=\"0.400000\" stroke=\"black\" d=\"M131,-68C131,-68 12,-68 12,-68 6,-68 0,-62 0,-56 0,-56 0,-12 0,-12 0,-6 6,-0 12,-0 12,-0 131,-0 131,-0 137,-0 143,-6 143,-12 143,-12 143,-56 143,-56 143,-62 137,-68 131,-68\"/>\n",
       "<text text-anchor=\"start\" x=\"12.5\" y=\"-52.8\" font-family=\"Helvetica,sans-Serif\" font-size=\"14.00\">entropy = 0.954</text>\n",
       "<text text-anchor=\"start\" x=\"26\" y=\"-37.8\" font-family=\"Helvetica,sans-Serif\" font-size=\"14.00\">samples = 8</text>\n",
       "<text text-anchor=\"start\" x=\"13.5\" y=\"-22.8\" font-family=\"Helvetica,sans-Serif\" font-size=\"14.00\">value = [0, 5, 3]</text>\n",
       "<text text-anchor=\"start\" x=\"8\" y=\"-7.8\" font-family=\"Helvetica,sans-Serif\" font-size=\"14.00\">class = versicolor</text>\n",
       "</g>\n",
       "<!-- 6&#45;&gt;7 -->\n",
       "<g id=\"edge7\" class=\"edge\"><title>6&#45;&gt;7</title>\n",
       "<path fill=\"none\" stroke=\"black\" d=\"M120.456,-103.726C114.154,-94.879 107.48,-85.51 101.154,-76.6303\"/>\n",
       "<polygon fill=\"black\" stroke=\"black\" points=\"103.873,-74.4138 95.2203,-68.2996 98.1714,-78.4751 103.873,-74.4138\"/>\n",
       "</g>\n",
       "<!-- 8 -->\n",
       "<g id=\"node9\" class=\"node\"><title>8</title>\n",
       "<path fill=\"#8139e5\" stroke=\"black\" d=\"M282,-68C282,-68 173,-68 173,-68 167,-68 161,-62 161,-56 161,-56 161,-12 161,-12 161,-6 167,-0 173,-0 173,-0 282,-0 282,-0 288,-0 294,-6 294,-12 294,-12 294,-56 294,-56 294,-62 288,-68 282,-68\"/>\n",
       "<text text-anchor=\"start\" x=\"177.5\" y=\"-52.8\" font-family=\"Helvetica,sans-Serif\" font-size=\"14.00\">entropy = 0.0</text>\n",
       "<text text-anchor=\"start\" x=\"182\" y=\"-37.8\" font-family=\"Helvetica,sans-Serif\" font-size=\"14.00\">samples = 1</text>\n",
       "<text text-anchor=\"start\" x=\"169.5\" y=\"-22.8\" font-family=\"Helvetica,sans-Serif\" font-size=\"14.00\">value = [0, 0, 1]</text>\n",
       "<text text-anchor=\"start\" x=\"169\" y=\"-7.8\" font-family=\"Helvetica,sans-Serif\" font-size=\"14.00\">class = virginica</text>\n",
       "</g>\n",
       "<!-- 6&#45;&gt;8 -->\n",
       "<g id=\"edge8\" class=\"edge\"><title>6&#45;&gt;8</title>\n",
       "<path fill=\"none\" stroke=\"black\" d=\"M178.544,-103.726C184.846,-94.879 191.52,-85.51 197.846,-76.6303\"/>\n",
       "<polygon fill=\"black\" stroke=\"black\" points=\"200.829,-78.4751 203.78,-68.2996 195.127,-74.4138 200.829,-78.4751\"/>\n",
       "</g>\n",
       "<!-- 11 -->\n",
       "<g id=\"node12\" class=\"node\"><title>11</title>\n",
       "<path fill=\"none\" stroke=\"black\" d=\"M542,-306C542,-306 421,-306 421,-306 415,-306 409,-300 409,-294 409,-294 409,-235 409,-235 409,-229 415,-223 421,-223 421,-223 542,-223 542,-223 548,-223 554,-229 554,-235 554,-235 554,-294 554,-294 554,-300 548,-306 542,-306\"/>\n",
       "<text text-anchor=\"start\" x=\"417\" y=\"-290.8\" font-family=\"Helvetica,sans-Serif\" font-size=\"14.00\">sepal_width ≤ 3.1</text>\n",
       "<text text-anchor=\"start\" x=\"431.5\" y=\"-275.8\" font-family=\"Helvetica,sans-Serif\" font-size=\"14.00\">entropy = 1.0</text>\n",
       "<text text-anchor=\"start\" x=\"436\" y=\"-260.8\" font-family=\"Helvetica,sans-Serif\" font-size=\"14.00\">samples = 2</text>\n",
       "<text text-anchor=\"start\" x=\"423.5\" y=\"-245.8\" font-family=\"Helvetica,sans-Serif\" font-size=\"14.00\">value = [0, 1, 1]</text>\n",
       "<text text-anchor=\"start\" x=\"418\" y=\"-230.8\" font-family=\"Helvetica,sans-Serif\" font-size=\"14.00\">class = versicolor</text>\n",
       "</g>\n",
       "<!-- 10&#45;&gt;11 -->\n",
       "<g id=\"edge11\" class=\"edge\"><title>10&#45;&gt;11</title>\n",
       "<path fill=\"none\" stroke=\"black\" d=\"M482.806,-341.907C482.663,-333.558 482.511,-324.671 482.364,-316.02\"/>\n",
       "<polygon fill=\"black\" stroke=\"black\" points=\"485.863,-315.959 482.193,-306.021 478.864,-316.079 485.863,-315.959\"/>\n",
       "</g>\n",
       "<!-- 14 -->\n",
       "<g id=\"node15\" class=\"node\"><title>14</title>\n",
       "<path fill=\"#8139e5\" stroke=\"black\" d=\"M701,-298.5C701,-298.5 584,-298.5 584,-298.5 578,-298.5 572,-292.5 572,-286.5 572,-286.5 572,-242.5 572,-242.5 572,-236.5 578,-230.5 584,-230.5 584,-230.5 701,-230.5 701,-230.5 707,-230.5 713,-236.5 713,-242.5 713,-242.5 713,-286.5 713,-286.5 713,-292.5 707,-298.5 701,-298.5\"/>\n",
       "<text text-anchor=\"start\" x=\"592.5\" y=\"-283.3\" font-family=\"Helvetica,sans-Serif\" font-size=\"14.00\">entropy = 0.0</text>\n",
       "<text text-anchor=\"start\" x=\"592.5\" y=\"-268.3\" font-family=\"Helvetica,sans-Serif\" font-size=\"14.00\">samples = 28</text>\n",
       "<text text-anchor=\"start\" x=\"580\" y=\"-253.3\" font-family=\"Helvetica,sans-Serif\" font-size=\"14.00\">value = [0, 0, 28]</text>\n",
       "<text text-anchor=\"start\" x=\"584\" y=\"-238.3\" font-family=\"Helvetica,sans-Serif\" font-size=\"14.00\">class = virginica</text>\n",
       "</g>\n",
       "<!-- 10&#45;&gt;14 -->\n",
       "<g id=\"edge14\" class=\"edge\"><title>10&#45;&gt;14</title>\n",
       "<path fill=\"none\" stroke=\"black\" d=\"M538.664,-341.907C555.009,-329.88 572.874,-316.735 589.105,-304.791\"/>\n",
       "<polygon fill=\"black\" stroke=\"black\" points=\"591.447,-307.413 597.427,-298.667 587.298,-301.775 591.447,-307.413\"/>\n",
       "</g>\n",
       "<!-- 12 -->\n",
       "<g id=\"node13\" class=\"node\"><title>12</title>\n",
       "<path fill=\"#8139e5\" stroke=\"black\" d=\"M534,-179.5C534,-179.5 425,-179.5 425,-179.5 419,-179.5 413,-173.5 413,-167.5 413,-167.5 413,-123.5 413,-123.5 413,-117.5 419,-111.5 425,-111.5 425,-111.5 534,-111.5 534,-111.5 540,-111.5 546,-117.5 546,-123.5 546,-123.5 546,-167.5 546,-167.5 546,-173.5 540,-179.5 534,-179.5\"/>\n",
       "<text text-anchor=\"start\" x=\"429.5\" y=\"-164.3\" font-family=\"Helvetica,sans-Serif\" font-size=\"14.00\">entropy = 0.0</text>\n",
       "<text text-anchor=\"start\" x=\"434\" y=\"-149.3\" font-family=\"Helvetica,sans-Serif\" font-size=\"14.00\">samples = 1</text>\n",
       "<text text-anchor=\"start\" x=\"421.5\" y=\"-134.3\" font-family=\"Helvetica,sans-Serif\" font-size=\"14.00\">value = [0, 0, 1]</text>\n",
       "<text text-anchor=\"start\" x=\"421\" y=\"-119.3\" font-family=\"Helvetica,sans-Serif\" font-size=\"14.00\">class = virginica</text>\n",
       "</g>\n",
       "<!-- 11&#45;&gt;12 -->\n",
       "<g id=\"edge12\" class=\"edge\"><title>11&#45;&gt;12</title>\n",
       "<path fill=\"none\" stroke=\"black\" d=\"M480.806,-222.907C480.623,-212.204 480.425,-200.615 480.24,-189.776\"/>\n",
       "<polygon fill=\"black\" stroke=\"black\" points=\"483.737,-189.606 480.067,-179.667 476.738,-189.725 483.737,-189.606\"/>\n",
       "</g>\n",
       "<!-- 13 -->\n",
       "<g id=\"node14\" class=\"node\"><title>13</title>\n",
       "<path fill=\"#39e581\" stroke=\"black\" d=\"M695,-179.5C695,-179.5 576,-179.5 576,-179.5 570,-179.5 564,-173.5 564,-167.5 564,-167.5 564,-123.5 564,-123.5 564,-117.5 570,-111.5 576,-111.5 576,-111.5 695,-111.5 695,-111.5 701,-111.5 707,-117.5 707,-123.5 707,-123.5 707,-167.5 707,-167.5 707,-173.5 701,-179.5 695,-179.5\"/>\n",
       "<text text-anchor=\"start\" x=\"585.5\" y=\"-164.3\" font-family=\"Helvetica,sans-Serif\" font-size=\"14.00\">entropy = 0.0</text>\n",
       "<text text-anchor=\"start\" x=\"590\" y=\"-149.3\" font-family=\"Helvetica,sans-Serif\" font-size=\"14.00\">samples = 1</text>\n",
       "<text text-anchor=\"start\" x=\"577.5\" y=\"-134.3\" font-family=\"Helvetica,sans-Serif\" font-size=\"14.00\">value = [0, 1, 0]</text>\n",
       "<text text-anchor=\"start\" x=\"572\" y=\"-119.3\" font-family=\"Helvetica,sans-Serif\" font-size=\"14.00\">class = versicolor</text>\n",
       "</g>\n",
       "<!-- 11&#45;&gt;13 -->\n",
       "<g id=\"edge13\" class=\"edge\"><title>11&#45;&gt;13</title>\n",
       "<path fill=\"none\" stroke=\"black\" d=\"M534.93,-222.907C550.761,-210.88 568.063,-197.735 583.784,-185.791\"/>\n",
       "<polygon fill=\"black\" stroke=\"black\" points=\"585.999,-188.503 591.844,-179.667 581.764,-182.93 585.999,-188.503\"/>\n",
       "</g>\n",
       "</g>\n",
       "</svg>\n"
      ],
      "text/plain": [
       "<graphviz.files.Source at 0x7fce65e3c5d0>"
      ]
     },
     "execution_count": 18,
     "metadata": {
      "tags": []
     },
     "output_type": "execute_result"
    }
   ],
   "source": [
    "#!apt-get install graphviz\n",
    "#!pip install graphviz\n",
    "from sklearn import tree\n",
    "import graphviz\n",
    "\n",
    "dot_data = tree.export_graphviz(classifier,\n",
    "                                out_file=None,\n",
    "                                feature_names=features,\n",
    "                                class_names=labels,\n",
    "                                filled=True, rounded=True,  \n",
    "                                special_characters=True) \n",
    "graphviz.Source(dot_data)"
   ]
  },
  {
   "cell_type": "markdown",
   "metadata": {
    "colab_type": "text",
    "id": "sc9Cx8-NBWCs"
   },
   "source": [
    "## **SVM Classifier**"
   ]
  },
  {
   "cell_type": "code",
   "execution_count": 0,
   "metadata": {
    "colab": {
     "base_uri": "https://localhost:8080/",
     "height": 547
    },
    "colab_type": "code",
    "id": "PxOx575dBLO3",
    "outputId": "0ae417a1-ae2d-437e-96ae-ed448ce3d34b"
   },
   "outputs": [
    {
     "name": "stdout",
     "output_type": "stream",
     "text": [
      "Train accuracy: 0.97\n",
      "Test accuracy: 0.98\n",
      "Labels: ['setosa', 'versicolor', 'virginica']\n",
      "\n",
      "Confusion matrix (True x Pred):\n",
      "[[17  0  0]\n",
      " [ 0 17  0]\n",
      " [ 0  1 15]]\n"
     ]
    },
    {
     "data": {
      "image/png": "[encoded data removed]",
      "text/plain": [
       "<matplotlib.figure.Figure at 0x7f7cc6407fd0>"
      ]
     },
     "metadata": {
      "tags": []
     },
     "output_type": "display_data"
    }
   ],
   "source": [
    "from sklearn.svm import SVC\n",
    "\n",
    "classifier = SVC()\n",
    "classifier.fit(x_train, y_train)\n",
    "train_acc = classifier.score(x_train, y_train)\n",
    "test_acc = classifier.score(x_test, y_test)\n",
    "\n",
    "print(\"Train accuracy: \" + str(train_acc))\n",
    "print(\"Test accuracy: \" + str(test_acc))\n",
    "\n",
    "labels = list(set(y_test))\n",
    "test_pred = classifier.predict(x_test)\n",
    "conf_matrix = confusion_matrix(y_test, test_pred, labels=labels)\n",
    "\n",
    "print(\"Labels: \" + str(labels))\n",
    "print(\"\\nConfusion matrix (True x Pred):\")\n",
    "print(conf_matrix)\n",
    "\n",
    "\n",
    "#################################\n",
    "# Plot confusion matrix\n",
    "#################################\n",
    "import matplotlib.pyplot as plt\n",
    "import itertools\n",
    "\n",
    "fig = plt.figure()\n",
    "ax = fig.gca()\n",
    "ax.grid(False)\n",
    "\n",
    "plt.imshow(conf_matrix, interpolation='nearest', cmap=plt.get_cmap('Blues'))\n",
    "plt.title(\"Confusion matrix\")\n",
    "\n",
    "tick_marks = np.arange(len(labels))\n",
    "plt.xticks(tick_marks, labels, rotation=45)\n",
    "plt.yticks(tick_marks, labels)\n",
    "\n",
    "for i, j in itertools.product(range(conf_matrix.shape[0]),\n",
    "                              range(conf_matrix.shape[1])):\n",
    "    plt.text(j, i, \"{:,}\".format(conf_matrix[i, j]),\n",
    "             horizontalalignment=\"center\",\n",
    "             color=\"white\" if conf_matrix[i, j] > conf_matrix.max() / 2 else \"black\")\n",
    "\n",
    "plt.ylabel('True label')\n",
    "plt.xlabel('Predicted label')\n",
    "plt.show()"
   ]
  }
 ],
 "metadata": {
  "colab": {
   "name": "1. Practice 2018-10-09 - Clustering and Classification.ipynb",
   "provenance": [],
   "toc_visible": true,
   "version": "0.3.2"
  },
  "kernelspec": {
   "display_name": "Python 3",
   "language": "python",
   "name": "python3"
  },
  "language_info": {
   "codemirror_mode": {
    "name": "ipython",
    "version": 3
   },
   "file_extension": ".py",
   "mimetype": "text/x-python",
   "name": "python",
   "nbconvert_exporter": "python",
   "pygments_lexer": "ipython3",
   "version": "3.6.8"
  }
 },
 "nbformat": 4,
 "nbformat_minor": 1
}
