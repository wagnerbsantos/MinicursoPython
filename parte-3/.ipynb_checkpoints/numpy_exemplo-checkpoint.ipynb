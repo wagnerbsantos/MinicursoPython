{
 "cells": [
  {
   "cell_type": "code",
   "execution_count": 33,
   "metadata": {},
   "outputs": [
    {
     "name": "stdout",
     "output_type": "stream",
     "text": [
      "Array original:\n",
      "[(b'James', 15, 1.7 ) (b'Nail', 26, 1.75) (b'Paul', 35, 1.6 )\n",
      " (b'Pit', 26, 1.72)]\n",
      "Ordenar por idade, e caso a idade for igual, ordenar por altura:\n",
      "[(b'James', 15, 1.7 ) (b'Pit', 26, 1.72) (b'Nail', 26, 1.75)\n",
      " (b'Paul', 35, 1.6 )]\n",
      "Soma das idades\n",
      "157\n",
      "15\n",
      "55\n",
      "31.4\n"
     ]
    }
   ],
   "source": [
    "import numpy as np\n",
    "data_type = [('nome', 'S15'), ('idade', int), ('altura', float)]\n",
    "dados = [('James', 15, 1.70), ('Nail', 26, 1.75),('Paul', 35, 1.60), ('Pit', 26, 1.72)]\n",
    "# create a structured array\n",
    "pessoas = np.array(dados, dtype=data_type)   \n",
    "print(\"Array original:\")\n",
    "print(pessoas)\n",
    "print(\"Ordenar por idade, e caso a idade for igual, ordenar por altura:\")\n",
    "print(np.sort(pessoas, order=['idade', 'altura']))\n",
    "novo = np.array([('Joao', 55, 1.50)], dtype=data_type)\n",
    "novo = np.append(pessoas, novo)\n",
    "print('Soma das idades')\n",
    "print(novo['idade'].sum())\n",
    "print(novo['idade'].min())\n",
    "print(novo['idade'].max())\n",
    "print(novo['idade'].mean())"
   ]
  },
  {
   "cell_type": "code",
   "execution_count": 38,
   "metadata": {},
   "outputs": [
    {
     "data": {
      "image/png": "[encoded data removed]",
      "text/plain": [
       "<Figure size 432x288 with 1 Axes>"
      ]
     },
     "metadata": {
      "needs_background": "light"
     },
     "output_type": "display_data"
    }
   ],
   "source": [
    "import matplotlib.pyplot as plt\n",
    "plt.plot(novo['altura'], novo['idade'], 'ro')\n",
    "plt.axis([0, 2, 0, 50])\n",
    "plt.show()"
   ]
  },
  {
   "cell_type": "code",
   "execution_count": 61,
   "metadata": {},
   "outputs": [
    {
     "data": {
      "image/png": "[encoded data removed]",
      "text/plain": [
       "<Figure size 432x288 with 1 Axes>"
      ]
     },
     "metadata": {
      "needs_background": "light"
     },
     "output_type": "display_data"
    }
   ],
   "source": [
    "def quadrado(x):\n",
    "    return x**2\n",
    "\n",
    "def raiz(x):\n",
    "    return x**0.5\n",
    "\n",
    "quad = np.vectorize(quadrado)\n",
    "r = np.vectorize(raiz)\n",
    "base = np.array([0, 1, 2, 3, 4, 5, 6, 10])\n",
    "quad(base)\n",
    "\n",
    "plt.plot(base, quad(base), '-b')\n",
    "plt.plot(base, r(base), '-r')\n",
    "plt.axis([0, 10, 0, 100])\n",
    "plt.xlabel('x')\n",
    "plt.ylabel('y')\n",
    "plt.legend(('quadrado', 'raiz'))\n",
    "plt.show()\n"
   ]
  }
 ],
 "metadata": {
  "kernelspec": {
   "display_name": "Python 3",
   "language": "python",
   "name": "python3"
  },
  "language_info": {
   "codemirror_mode": {
    "name": "ipython",
    "version": 3
   },
   "file_extension": ".py",
   "mimetype": "text/x-python",
   "name": "python",
   "nbconvert_exporter": "python",
   "pygments_lexer": "ipython3",
   "version": "3.6.8"
  }
 },
 "nbformat": 4,
 "nbformat_minor": 2
}
