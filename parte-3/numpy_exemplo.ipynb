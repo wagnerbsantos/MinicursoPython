{
 "cells": [
  {
   "cell_type": "code",
   "execution_count": 1,
   "metadata": {},
   "outputs": [
    {
     "name": "stdout",
     "output_type": "stream",
     "text": [
      "Array original:\n",
      "[(b'James', 15, 1.7 ) (b'Nail', 26, 1.75) (b'Paul', 35, 1.6 )\n",
      " (b'Pit', 26, 1.72)]\n",
      "Ordenar por idade, e caso a idade for igual, ordenar por altura:\n",
      "[(b'James', 15, 1.7 ) (b'Pit', 26, 1.72) (b'Nail', 26, 1.75)\n",
      " (b'Paul', 35, 1.6 )]\n",
      "Soma das idades\n",
      "157\n",
      "15\n",
      "55\n",
      "31.4\n"
     ]
    }
   ],
   "source": [
    "import numpy as np\n",
    "data_type = [('nome', 'S15'), ('idade', int), ('altura', float)]\n",
    "dados = [('James', 15, 1.70),\n",
    "         ('Nail', 26, 1.75),\n",
    "         ('Paul', 35, 1.60), \n",
    "         ('Pit', 26, 1.72)]\n",
    "# create a structured array\n",
    "pessoas = np.array(dados, dtype=data_type)   \n",
    "print(\"Array original:\")\n",
    "print(pessoas)\n",
    "print(\"Ordenar por idade, e caso a idade for igual, ordenar por altura:\")\n",
    "print(np.sort(pessoas, order=['idade', 'altura']))\n",
    "novo = np.array([('Joao', 55, 1.50)], dtype=data_type)\n",
    "novo = np.append(pessoas, novo)\n",
    "print('Soma das idades')\n",
    "print(novo['idade'].sum())\n",
    "print(novo['idade'].min())\n",
    "print(novo['idade'].max())\n",
    "print(novo['idade'].mean())"
   ]
  },
  {
   "cell_type": "code",
   "execution_count": 4,
   "metadata": {},
   "outputs": [
    {
     "data": {
      "image/png": "[encoded data removed]",
      "text/plain": [
       "<Figure size 432x288 with 1 Axes>"
      ]
     },
     "metadata": {
      "needs_background": "light"
     },
     "output_type": "display_data"
    }
   ],
   "source": [
    "import matplotlib.pyplot as plt\n",
    "plt.plot(novo['altura'], novo['idade'], 'ro')\n",
    "plt.axis([0, 2, 0, 60])\n",
    "plt.show()"
   ]
  },
  {
   "cell_type": "code",
   "execution_count": 8,
   "metadata": {},
   "outputs": [
    {
     "name": "stdout",
     "output_type": "stream",
     "text": [
      "[ 0  1  2  3  4  5  6  7  8  9 10 11 12 13 14 15 16 17 18 19 20 21 22 23\n",
      " 24 25 26 27 28 29 30 31 32 33 34 35 36 37 38 39 40 41 42 43 44 45 46 47\n",
      " 48 49 50 51 52 53 54 55 56 57 58 59 60 61 62 63 64 65 66 67 68 69 70 71\n",
      " 72 73 74 75 76 77 78 79 80 81 82 83 84 85 86 87 88 89 90 91 92 93 94 95\n",
      " 96 97 98 99]\n",
      "[   0    1    4    9   16   25   36   49   64   81  100  121  144  169\n",
      "  196  225  256  289  324  361  400  441  484  529  576  625  676  729\n",
      "  784  841  900  961 1024 1089 1156 1225 1296 1369 1444 1521 1600 1681\n",
      " 1764 1849 1936 2025 2116 2209 2304 2401 2500 2601 2704 2809 2916 3025\n",
      " 3136 3249 3364 3481 3600 3721 3844 3969 4096 4225 4356 4489 4624 4761\n",
      " 4900 5041 5184 5329 5476 5625 5776 5929 6084 6241 6400 6561 6724 6889\n",
      " 7056 7225 7396 7569 7744 7921 8100 8281 8464 8649 8836 9025 9216 9409\n",
      " 9604 9801]\n"
     ]
    },
    {
     "data": {
      "image/png": "[encoded data removed]",
      "text/plain": [
       "<Figure size 432x288 with 1 Axes>"
      ]
     },
     "metadata": {
      "needs_background": "light"
     },
     "output_type": "display_data"
    }
   ],
   "source": [
    "def quadrado(x):\n",
    "    return x**2\n",
    "\n",
    "def raiz(x):\n",
    "    return x**0.5\n",
    "\n",
    "quad = np.vectorize(quadrado)\n",
    "r = np.vectorize(raiz)\n",
    "base = np.array(range(100))\n",
    "\n",
    "print(base)\n",
    "print(quad(base))\n",
    "\n",
    "\n",
    "plt.plot(base, quad(base), '-b')\n",
    "plt.plot(base, r(base), '-r')\n",
    "plt.axis([0, 10, 0, 100])\n",
    "plt.xlabel('x')\n",
    "plt.ylabel('y')\n",
    "plt.legend(('quadrado', 'raiz'))\n",
    "plt.show()\n"
   ]
  },
  {
   "cell_type": "code",
   "execution_count": null,
   "metadata": {},
   "outputs": [],
   "source": []
  }
 ],
 "metadata": {
  "kernelspec": {
   "display_name": "Python 3",
   "language": "python",
   "name": "python3"
  },
  "language_info": {
   "codemirror_mode": {
    "name": "ipython",
    "version": 3
   },
   "file_extension": ".py",
   "mimetype": "text/x-python",
   "name": "python",
   "nbconvert_exporter": "python",
   "pygments_lexer": "ipython3",
   "version": "3.6.8"
  }
 },
 "nbformat": 4,
 "nbformat_minor": 2
}
